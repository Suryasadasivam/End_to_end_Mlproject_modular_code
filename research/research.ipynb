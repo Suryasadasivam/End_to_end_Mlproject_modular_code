{
 "cells": [
  {
   "cell_type": "code",
   "execution_count": 2,
   "id": "b4b6a9f5",
   "metadata": {},
   "outputs": [],
   "source": [
    "example={\"key1\": \"value1\",\n",
    "         \"key2\": \"value2\"}"
   ]
  },
  {
   "cell_type": "code",
   "execution_count": 5,
   "id": "7de468b2",
   "metadata": {},
   "outputs": [
    {
     "data": {
      "text/plain": [
       "'value1'"
      ]
     },
     "execution_count": 5,
     "metadata": {},
     "output_type": "execute_result"
    }
   ],
   "source": [
    "example[\"key1\"]"
   ]
  },
  {
   "cell_type": "code",
   "execution_count": 7,
   "id": "58e35cb4",
   "metadata": {},
   "outputs": [],
   "source": [
    "from box import ConfigBox \n"
   ]
  },
  {
   "cell_type": "code",
   "execution_count": 8,
   "id": "182c70cd",
   "metadata": {},
   "outputs": [
    {
     "data": {
      "text/plain": [
       "'value1'"
      ]
     },
     "execution_count": 8,
     "metadata": {},
     "output_type": "execute_result"
    }
   ],
   "source": [
    "example=ConfigBox({\"key1\": \"value1\",\n",
    "         \"key2\": \"value2\"})\n",
    "\n",
    "example.key1"
   ]
  },
  {
   "cell_type": "code",
   "execution_count": null,
   "id": "b92d1522",
   "metadata": {},
   "outputs": [],
   "source": [
    "# explanation is for ensure annotation\n",
    "def  get_product(x:int,y:int)-> int:\n",
    "    return x*y\n"
   ]
  },
  {
   "cell_type": "code",
   "execution_count": null,
   "id": "4cce9e14",
   "metadata": {},
   "outputs": [],
   "source": []
  }
 ],
 "metadata": {
  "kernelspec": {
   "display_name": "venv",
   "language": "python",
   "name": "python3"
  },
  "language_info": {
   "codemirror_mode": {
    "name": "ipython",
    "version": 3
   },
   "file_extension": ".py",
   "mimetype": "text/x-python",
   "name": "python",
   "nbconvert_exporter": "python",
   "pygments_lexer": "ipython3",
   "version": "3.11.11"
  }
 },
 "nbformat": 4,
 "nbformat_minor": 5
}
