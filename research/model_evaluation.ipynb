{
 "cells": [
  {
   "cell_type": "code",
   "execution_count": 1,
   "id": "1e098253",
   "metadata": {},
   "outputs": [],
   "source": [
    "import os"
   ]
  },
  {
   "cell_type": "code",
   "execution_count": 2,
   "id": "f5121c3b",
   "metadata": {},
   "outputs": [
    {
     "data": {
      "text/plain": [
       "'/Users/suryasadasivam/DataScience /project/MLproject/research'"
      ]
     },
     "execution_count": 2,
     "metadata": {},
     "output_type": "execute_result"
    }
   ],
   "source": [
    "%pwd"
   ]
  },
  {
   "cell_type": "code",
   "execution_count": 3,
   "id": "cc2d2736",
   "metadata": {},
   "outputs": [],
   "source": [
    "os.chdir(\"../\")"
   ]
  },
  {
   "cell_type": "code",
   "execution_count": 4,
   "id": "c122df96",
   "metadata": {},
   "outputs": [
    {
     "data": {
      "text/plain": [
       "'/Users/suryasadasivam/DataScience /project/MLproject'"
      ]
     },
     "execution_count": 4,
     "metadata": {},
     "output_type": "execute_result"
    }
   ],
   "source": [
    "%pwd"
   ]
  },
  {
   "cell_type": "code",
   "execution_count": 5,
   "id": "be190334",
   "metadata": {},
   "outputs": [],
   "source": [
    "os.environ[\"MLFLOW_TRACKING_URI\"]=\"https://dagshub.com/suryasadasivamm/End_to_end_Mlproject_modular_code.mlflow\"\n",
    "os.environ[\"MLFLOW_TRACKING_USERNAME\"]=\"suryasadasivamm\"\n",
    "os.environ[\"MLFLOW_TRACKING_PASSWORD\"]=\"b6642fdc85f6486338f8b5daea8dce29577793d1\""
   ]
  },
  {
   "cell_type": "code",
   "execution_count": 6,
   "id": "d554f9bf",
   "metadata": {},
   "outputs": [
    {
     "data": {
      "text/plain": [
       "'/Users/suryasadasivam/DataScience /project/MLproject'"
      ]
     },
     "execution_count": 6,
     "metadata": {},
     "output_type": "execute_result"
    }
   ],
   "source": [
    "%pwd"
   ]
  },
  {
   "cell_type": "code",
   "execution_count": 33,
   "id": "331b2bbe",
   "metadata": {},
   "outputs": [],
   "source": [
    "from dataclasses import dataclass\n",
    "from pathlib import Path \n",
    "\n",
    "@dataclass\n",
    "class ModelEvaluationConfig:\n",
    "    root_dir: Path\n",
    "    test_data_path: Path\n",
    "    model_data_path: Path\n",
    "    all_params: dict\n",
    "    metric_file_name: Path\n",
    "    target_column: str\n",
    "    mlflow_uri:str"
   ]
  },
  {
   "cell_type": "code",
   "execution_count": 34,
   "id": "e11c0782",
   "metadata": {},
   "outputs": [],
   "source": [
    "from src.datascience.constants import *\n",
    "from src.datascience.utils.common import read_yaml,create_directories,save_json\n"
   ]
  },
  {
   "cell_type": "code",
   "execution_count": 43,
   "id": "a860b810",
   "metadata": {},
   "outputs": [],
   "source": [
    "class ConfigurationManager:\n",
    "    def __init__(self,config_filepath=CONFIG_FILE_PATH,\n",
    "                 params_filepath=PARAMS_FILE_PATH,\n",
    "                 schema_filepath=SCHEMA_FILE_PATH):\n",
    "            self.config=read_yaml(config_filepath)\n",
    "            self.params=read_yaml(params_filepath)\n",
    "            self.schema=read_yaml(schema_filepath)\n",
    "\n",
    "            create_directories([self.config.artifacts_root])\n",
    "\n",
    "    def get_model_evaluation_config(self)-> ModelEvaluationConfig:\n",
    "        config=self.config.model_evaluation\n",
    "        params=self.params.ElasticNet\n",
    "        schema=self.schema.TARGET_COLUMN\n",
    "\n",
    "        create_directories([config.root_dir])\n",
    "\n",
    "        model_evaluation_config=ModelEvaluationConfig(\n",
    "            root_dir=config.root_dir,\n",
    "            test_data_path=config.test_data_path,\n",
    "            model_data_path=config.model_data_path,\n",
    "            all_params=params,\n",
    "            metric_file_name=config.metric_file_name,\n",
    "            target_column=schema.name,\n",
    "            mlflow_uri=\"https://dagshub.com/suryasadasivamm/End_to_end_Mlproject_modular_code.mlflow\"\n",
    "        )\n",
    "\n",
    "        return model_evaluation_config\n"
   ]
  },
  {
   "cell_type": "code",
   "execution_count": 44,
   "id": "6fdb600f",
   "metadata": {},
   "outputs": [],
   "source": [
    "import os \n",
    "import pandas as pd\n",
    "from sklearn.metrics import mean_squared_error, mean_absolute_error,r2_score\n",
    "from urllib.parse import urlparse\n",
    "import mlflow\n",
    "import mlflow.sklearn\n",
    "import numpy as np\n",
    "import joblib\n"
   ]
  },
  {
   "cell_type": "code",
   "execution_count": 49,
   "id": "9f77dfa5",
   "metadata": {},
   "outputs": [],
   "source": [
    "class ModelEvaluation:\n",
    "    def __init__(self,config:ModelEvaluationConfig):\n",
    "        self.config=config\n",
    "\n",
    "    def eval_metric(self,actual,pred):\n",
    "        rsme=np.sqrt(mean_squared_error(actual,pred))\n",
    "        mae=mean_absolute_error(actual,pred)\n",
    "        r2=r2_score(actual,pred)\n",
    "        return rsme,mae,r2\n",
    "\n",
    "    def log_into_mlflow(self):\n",
    "        test_data=pd.read_csv(self.config.test_data_path)\n",
    "        model=joblib.load(self.config.model_data_path)\n",
    "\n",
    "        test_x=test_data.drop([self.config.target_column],axis=1)\n",
    "        test_y=test_data[[self.config.target_column]]\n",
    "\n",
    "        mlflow.set_registry_uri(self.config.mlflow_uri)\n",
    "        tracking_url_type_store=urlparse(mlflow.get_tracking_uri()).scheme\n",
    "\n",
    "        with mlflow.start_run():\n",
    "            predicted_qualities=model.predict(test_x)\n",
    "\n",
    "            (rsme,mae,r2)=self.eval_metric(test_y,predicted_qualities)\n",
    "\n",
    "            #saving metric as local\n",
    "            scores={'rsme':rsme,'mae':mae,\"r2\":r2}\n",
    "            save_json(path=Path(self.config.metric_file_name),data=scores)\n",
    "\n",
    "            mlflow.log_params(self.config.all_params)\n",
    "\n",
    "            mlflow.log_metric('rsme',rsme)\n",
    "            mlflow.log_metric('r2',r2)\n",
    "            mlflow.log_metric(\"mae\",mae)\n",
    "\n",
    "\n",
    "            #Model registry does not work with file store\n",
    "            if tracking_url_type_store!=\"file\":\n",
    "\n",
    "                mlflow.sklearn.log_model(model,\"model\",registered_model_name=\"Elasticmodel\")\n",
    "            else:\n",
    "                mlflow.sklearn.log_model(model,\"model\")\n",
    "\n"
   ]
  },
  {
   "cell_type": "code",
   "execution_count": 50,
   "id": "d1d48371",
   "metadata": {},
   "outputs": [
    {
     "name": "stdout",
     "output_type": "stream",
     "text": [
      "[2025-05-01 13:55:56,889:INFO:common:yaml file:config/config.yamlloaded successfully]\n",
      "[2025-05-01 13:55:56,891:INFO:common:yaml file:params.yamlloaded successfully]\n",
      "[2025-05-01 13:55:56,892:INFO:common:yaml file:schema.yamlloaded successfully]\n",
      "[2025-05-01 13:55:56,893:INFO:common:created directory at :artifacts]\n",
      "[2025-05-01 13:55:56,893:INFO:common:created directory at :artifacts/model_evaluation]\n",
      "[2025-05-01 13:55:57,246:INFO:common:json file saved at:artifacts/model_evaluation/metrics.json]\n"
     ]
    },
    {
     "name": "stderr",
     "output_type": "stream",
     "text": [
      "/Users/suryasadasivam/DataScience /project/MLproject/venv/lib/python3.11/site-packages/sklearn/linear_model/_base.py:279: RuntimeWarning: divide by zero encountered in matmul\n",
      "  return X @ coef_ + self.intercept_\n",
      "/Users/suryasadasivam/DataScience /project/MLproject/venv/lib/python3.11/site-packages/sklearn/linear_model/_base.py:279: RuntimeWarning: overflow encountered in matmul\n",
      "  return X @ coef_ + self.intercept_\n",
      "/Users/suryasadasivam/DataScience /project/MLproject/venv/lib/python3.11/site-packages/sklearn/linear_model/_base.py:279: RuntimeWarning: invalid value encountered in matmul\n",
      "  return X @ coef_ + self.intercept_\n",
      "\u001b[31m2025/05/01 13:56:00 WARNING mlflow.models.model: Model logged without a signature and input example. Please set `input_example` parameter when logging the model to auto infer the model signature.\u001b[0m\n",
      "Successfully registered model 'Elasticmodel'.\n",
      "2025/05/01 13:56:05 INFO mlflow.store.model_registry.abstract_store: Waiting up to 300 seconds for model version to finish creation. Model name: Elasticmodel, version 1\n",
      "Created version '1' of model 'Elasticmodel'.\n"
     ]
    },
    {
     "name": "stdout",
     "output_type": "stream",
     "text": [
      "🏃 View run gregarious-sloth-530 at: https://dagshub.com/suryasadasivamm/End_to_end_Mlproject_modular_code.mlflow/#/experiments/0/runs/60e58e5368dc4a1dbdb2d582bad50c89\n",
      "🧪 View experiment at: https://dagshub.com/suryasadasivamm/End_to_end_Mlproject_modular_code.mlflow/#/experiments/0\n"
     ]
    }
   ],
   "source": [
    "try:\n",
    "    config=ConfigurationManager()\n",
    "    model_evaluation_config=config.get_model_evaluation_config()\n",
    "    model_evaluation=ModelEvaluation(config=model_evaluation_config)\n",
    "    model_evaluation.log_into_mlflow()\n",
    "except Exception as e:\n",
    "    raise e "
   ]
  },
  {
   "cell_type": "code",
   "execution_count": null,
   "id": "b2e98d67",
   "metadata": {},
   "outputs": [],
   "source": []
  }
 ],
 "metadata": {
  "kernelspec": {
   "display_name": "venv",
   "language": "python",
   "name": "python3"
  },
  "language_info": {
   "codemirror_mode": {
    "name": "ipython",
    "version": 3
   },
   "file_extension": ".py",
   "mimetype": "text/x-python",
   "name": "python",
   "nbconvert_exporter": "python",
   "pygments_lexer": "ipython3",
   "version": "3.11.11"
  }
 },
 "nbformat": 4,
 "nbformat_minor": 5
}
