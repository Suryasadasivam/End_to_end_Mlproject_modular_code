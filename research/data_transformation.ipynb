{
 "cells": [
  {
   "cell_type": "code",
   "execution_count": 1,
   "id": "dd136a5b",
   "metadata": {},
   "outputs": [],
   "source": [
    "import os"
   ]
  },
  {
   "cell_type": "code",
   "execution_count": 2,
   "id": "4da97c8f",
   "metadata": {},
   "outputs": [
    {
     "data": {
      "text/plain": [
       "'/Users/suryasadasivam/DataScience /project/MLproject/research'"
      ]
     },
     "execution_count": 2,
     "metadata": {},
     "output_type": "execute_result"
    }
   ],
   "source": [
    "%pwd"
   ]
  },
  {
   "cell_type": "code",
   "execution_count": 3,
   "id": "21a9a989",
   "metadata": {},
   "outputs": [],
   "source": [
    "os.chdir(\"../\")"
   ]
  },
  {
   "cell_type": "code",
   "execution_count": 4,
   "id": "92990d38",
   "metadata": {},
   "outputs": [
    {
     "data": {
      "text/plain": [
       "'/Users/suryasadasivam/DataScience /project/MLproject'"
      ]
     },
     "execution_count": 4,
     "metadata": {},
     "output_type": "execute_result"
    }
   ],
   "source": [
    "%pwd"
   ]
  },
  {
   "cell_type": "code",
   "execution_count": 15,
   "id": "9b518a90",
   "metadata": {},
   "outputs": [],
   "source": [
    "from dataclasses import dataclass\n",
    "from pathlib import Path \n",
    "\n",
    "@dataclass(frozen=True) \n",
    "class DataTransformationConfig:\n",
    "    root_dir: Path\n",
    "    data_path: Path"
   ]
  },
  {
   "cell_type": "code",
   "execution_count": 5,
   "id": "d854c06c",
   "metadata": {},
   "outputs": [],
   "source": [
    "from src.datascience.constants import *\n",
    "from src.datascience.utils.common import read_yaml,create_directories"
   ]
  },
  {
   "cell_type": "code",
   "execution_count": 20,
   "id": "5073738d",
   "metadata": {},
   "outputs": [],
   "source": [
    "class ConfigurationManager:\n",
    "    def __init__(self,config_filepath=CONFIG_FILE_PATH,\n",
    "                 params_filepath=PARAMS_FILE_PATH,\n",
    "                 schema_filepath=SCHEMA_FILE_PATH):\n",
    "            self.config=read_yaml(config_filepath)\n",
    "            self.params=read_yaml(params_filepath)\n",
    "            self.schema=read_yaml(schema_filepath)\n",
    "\n",
    "            create_directories([self.config.artifacts_root])\n",
    "\n",
    "    def get_data_transformation_config(self)-> DataTransformationConfig:\n",
    "        config=self.config.data_transformation\n",
    "\n",
    "        create_directories([config.root_dir])\n",
    "        data_transformation_config=DataTransformationConfig(\n",
    "            root_dir=config.root_dir,\n",
    "            data_path=config.data_path\n",
    "        )\n",
    "        return data_transformation_config\n"
   ]
  },
  {
   "cell_type": "code",
   "execution_count": 21,
   "id": "c11ff45f",
   "metadata": {},
   "outputs": [],
   "source": [
    "import os \n",
    "from src.datascience import logger \n",
    "from sklearn.model_selection import train_test_split\n",
    "import pandas as pd"
   ]
  },
  {
   "cell_type": "code",
   "execution_count": 22,
   "id": "ce58876c",
   "metadata": {},
   "outputs": [],
   "source": [
    "class DataTransformation:\n",
    "    def __init__(self,config: DataTransformationConfig):\n",
    "        self.config=config\n",
    "\n",
    "    def train_test_spliting(self):\n",
    "        data=pd.read_csv(self.config.data_path)\n",
    "\n",
    "        #split the data into training and test sets (0.75,0.25)split.\n",
    "        train,test=train_test_split(data)\n",
    "\n",
    "        train.to_csv(os.path.join(self.config.root_dir,\"train.csv\"),index=False)\n",
    "        test.to_csv(os.path.join(self.config.root_dir,\"test.csv\"),index=False)\n",
    "\n",
    "        logger.info(\"splitted data into training and test sets\")\n",
    "        logger.info(train.shape)\n",
    "        logger.info(test.shape)\n",
    "\n",
    "        print(train.shape)\n",
    "        print(test.shape)\n",
    "\n",
    "        "
   ]
  },
  {
   "cell_type": "code",
   "execution_count": 23,
   "id": "ee32d238",
   "metadata": {},
   "outputs": [
    {
     "name": "stdout",
     "output_type": "stream",
     "text": [
      "[2025-05-01 11:23:06,377:INFO:common:yaml file:config/config.yamlloaded successfully]\n",
      "[2025-05-01 11:23:06,379:INFO:common:yaml file:params.yamlloaded successfully]\n",
      "[2025-05-01 11:23:06,381:INFO:common:yaml file:schema.yamlloaded successfully]\n",
      "[2025-05-01 11:23:06,381:INFO:common:created directory at :artifacts]\n",
      "[2025-05-01 11:23:06,382:INFO:common:created directory at :artifacts/data_transformation]\n",
      "[2025-05-01 11:23:06,396:INFO:2306536306:splitted data into training and test sets]\n",
      "[2025-05-01 11:23:06,397:INFO:2306536306:(1199, 12)]\n",
      "[2025-05-01 11:23:06,397:INFO:2306536306:(400, 12)]\n",
      "(1199, 12)\n",
      "(400, 12)\n"
     ]
    }
   ],
   "source": [
    "try:\n",
    "    config=ConfigurationManager()\n",
    "    data_transformation_config=config.get_data_transformation_config()\n",
    "    data_transformation=DataTransformation(config=data_transformation_config)\n",
    "    data_transformation.train_test_spliting()\n",
    "except Exception as e:\n",
    "    raise e "
   ]
  },
  {
   "cell_type": "code",
   "execution_count": null,
   "id": "39f12a21",
   "metadata": {},
   "outputs": [],
   "source": []
  }
 ],
 "metadata": {
  "kernelspec": {
   "display_name": "venv",
   "language": "python",
   "name": "python3"
  },
  "language_info": {
   "codemirror_mode": {
    "name": "ipython",
    "version": 3
   },
   "file_extension": ".py",
   "mimetype": "text/x-python",
   "name": "python",
   "nbconvert_exporter": "python",
   "pygments_lexer": "ipython3",
   "version": "3.11.11"
  }
 },
 "nbformat": 4,
 "nbformat_minor": 5
}
